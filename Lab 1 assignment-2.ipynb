{
 "cells": [
  {
   "cell_type": "markdown",
   "metadata": {},
   "source": [
    "# Lab Assignment 1\n",
    "\n"
   ]
  },
  {
   "attachments": {},
   "cell_type": "markdown",
   "metadata": {},
   "source": [
    "### Yifang, s2184037"
   ]
  },
  {
   "cell_type": "markdown",
   "metadata": {},
   "source": [
    "## Task 1\n",
    "\n",
    "Use `SymPy` to solve the differential equation $y' = (2y-3y^2)\\sin(x)$, with $y(0)=0.5$, and plot the solution."
   ]
  },
  {
   "cell_type": "code",
   "execution_count": null,
   "metadata": {},
   "outputs": [],
   "source": []
  },
  {
   "cell_type": "code",
   "execution_count": null,
   "metadata": {},
   "outputs": [],
   "source": []
  },
  {
   "cell_type": "markdown",
   "metadata": {},
   "source": [
    "## Task 2\n",
    "\n",
    "Use `SciPy`'s `odeint` function to solve the system of equations\n",
    "\n",
    "\\begin{align*}\n",
    "\\frac{dx}{dt}&=xy -2.1x \\\\ \\frac{dy}{dt} &= 0.8y - 0.4xy\n",
    "\\end{align*}\n",
    "\n",
    "Produce a plot of the solutions for $0\\leq t\\leq 20$ with initial conditions $x(0)=0.5$ and $y(0) \\in \\{1, 3, 5, \\ldots, 19\\}$.\n",
    "\n",
    "How many curves do you expect to see plotted?\n",
    "\n",
    "Qualitatively, what happens to the solution, $(x(t),y(t))$, as $y(0)$ becomes large?"
   ]
  },
  {
   "cell_type": "code",
   "execution_count": null,
   "metadata": {},
   "outputs": [],
   "source": []
  }
 ],
 "metadata": {
  "kernelspec": {
   "display_name": "Python 3 (ipykernel)",
   "language": "python",
   "name": "python3"
  },
  "language_info": {
   "codemirror_mode": {
    "name": "ipython",
    "version": 3
   },
   "file_extension": ".py",
   "mimetype": "text/x-python",
   "name": "python",
   "nbconvert_exporter": "python",
   "pygments_lexer": "ipython3",
   "version": "3.9.13"
  }
 },
 "nbformat": 4,
 "nbformat_minor": 2
}
